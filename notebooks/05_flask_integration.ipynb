{
 "cells": [
  {
   "cell_type": "code",
   "execution_count": 20,
   "id": "773a49ed",
   "metadata": {},
   "outputs": [],
   "source": [
    "import joblib\n",
    "import numpy as np\n",
    "import pandas as pd\n",
    "import os\n"
   ]
  },
  {
   "cell_type": "code",
   "execution_count": 22,
   "id": "c0307d56",
   "metadata": {},
   "outputs": [
    {
     "name": "stdout",
     "output_type": "stream",
     "text": [
      "✅ Model and Vectorizer loaded.\n"
     ]
    }
   ],
   "source": [
    "# === Load Model and Vectorizer ===\n",
    "model_path = \"final_model/classification_model.pkl\"\n",
    "vectorizer_path = \"final_model/vectorizer.pkl\"\n",
    "\n",
    "assert os.path.exists(model_path), \"❌ classification_model.pkl not found\"\n",
    "assert os.path.exists(vectorizer_path), \"❌ vectorizer.pkl not found\"\n",
    "\n",
    "model = joblib.load(model_path)\n",
    "vectorizer = joblib.load(vectorizer_path)\n",
    "\n",
    "print(\"✅ Model and Vectorizer loaded.\")"
   ]
  },
  {
   "cell_type": "code",
   "execution_count": 24,
   "id": "b09531de",
   "metadata": {},
   "outputs": [],
   "source": [
    "# Topic label map (customize as needed)\n",
    "topic_labels = {\n",
    "    0: \"AI Ethics & Alignment\",\n",
    "    1: \"Science & Physics\",\n",
    "    2: \"Programming & Tech\",\n",
    "    3: \"Neuroscience & Consciousness\",\n",
    "    4: \"Biology & Medicine\"\n",
    "}\n",
    "\n",
    "def predict_topic(text, model, vectorizer, top_n_words=5):\n",
    "    vec = vectorizer.transform([text])\n",
    "    topic = model.predict(vec)[0]\n",
    "    dense_vec = vec.todense().tolist()[0]\n",
    "    feature_names = vectorizer.get_feature_names_out()\n",
    "\n",
    "    top_indices = np.argsort(dense_vec)[::-1][:top_n_words]\n",
    "    top_words = [(feature_names[i], dense_vec[i]) for i in top_indices if dense_vec[i] > 0]\n",
    "    label = topic_labels.get(topic, \"Unknown\")\n",
    "\n",
    "    return {\n",
    "        \"predicted_topic\": int(topic),\n",
    "        \"predicted_label\": label,\n",
    "        \"top_words\": top_words\n",
    "    }\n"
   ]
  },
  {
   "cell_type": "code",
   "execution_count": 25,
   "id": "ed47fe30",
   "metadata": {},
   "outputs": [
    {
     "name": "stdout",
     "output_type": "stream",
     "text": [
      "🎯 Prediction Output\n",
      "Predicted Topic #: 0 - AI Ethics & Alignment\n",
      "Top Influential Words:\n",
      "   🔹 frameworks: 0.4291\n",
      "   🔹 alignment: 0.4291\n",
      "   🔹 reinforcement: 0.3418\n",
      "   🔹 agi: 0.3246\n",
      "   🔹 ethical: 0.2876\n"
     ]
    }
   ],
   "source": [
    "# Sample input\n",
    "sample = \"\"\"\n",
    "In this episode we explore AGI alignment, ethical decision-making in AI, and safe reinforcement learning frameworks for future models.\n",
    "\"\"\"\n",
    "\n",
    "# Run prediction\n",
    "result = predict_topic(sample, model, vectorizer)\n",
    "\n",
    "# Display results\n",
    "print(\"🎯 Prediction Output\")\n",
    "print(f\"Predicted Topic #: {result['predicted_topic']} - {result['predicted_label']}\")\n",
    "print(\"Top Influential Words:\")\n",
    "for word, score in result[\"top_words\"]:\n",
    "    print(f\"   🔹 {word}: {score:.4f}\")\n"
   ]
  },
  {
   "cell_type": "code",
   "execution_count": 26,
   "id": "e5375ee7",
   "metadata": {},
   "outputs": [],
   "source": [
    "def classify_text(text):\n",
    "    return predict_topic(text, model, vectorizer)\n"
   ]
  },
  {
   "cell_type": "code",
   "execution_count": null,
   "id": "d5bc7cfa",
   "metadata": {},
   "outputs": [],
   "source": []
  },
  {
   "cell_type": "code",
   "execution_count": null,
   "id": "3461c350",
   "metadata": {},
   "outputs": [],
   "source": []
  },
  {
   "cell_type": "code",
   "execution_count": null,
   "id": "1cffee02",
   "metadata": {},
   "outputs": [],
   "source": []
  }
 ],
 "metadata": {
  "kernelspec": {
   "display_name": "lexprojectenv",
   "language": "python",
   "name": "python3"
  },
  "language_info": {
   "codemirror_mode": {
    "name": "ipython",
    "version": 3
   },
   "file_extension": ".py",
   "mimetype": "text/x-python",
   "name": "python",
   "nbconvert_exporter": "python",
   "pygments_lexer": "ipython3",
   "version": "3.11.5"
  }
 },
 "nbformat": 4,
 "nbformat_minor": 5
}
