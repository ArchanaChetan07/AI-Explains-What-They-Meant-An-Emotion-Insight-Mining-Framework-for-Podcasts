{
 "cells": [
  {
   "cell_type": "code",
   "execution_count": null,
   "id": "4d835705",
   "metadata": {},
   "outputs": [],
   "source": [
    "import pandas as pd\n",
    "import re\n",
    "from collections import Counter\n",
    "from nltk.corpus import stopwords\n",
    "from nltk.tokenize import word_tokenize\n",
    "import matplotlib.pyplot as plt\n",
    "import string\n",
    "import nltk\n",
    "from datasets import load_dataset"
   ]
  },
  {
   "cell_type": "code",
   "execution_count": null,
   "id": "a30a97d2",
   "metadata": {},
   "outputs": [
    {
     "name": "stderr",
     "output_type": "stream",
     "text": [
      "c:\\Users\\archa\\Desktop\\Clip youtube\\podcast_env\\Lib\\site-packages\\tqdm\\auto.py:21: TqdmWarning: IProgress not found. Please update jupyter and ipywidgets. See https://ipywidgets.readthedocs.io/en/stable/user_install.html\n",
      "  from .autonotebook import tqdm as notebook_tqdm\n",
      "Using the latest cached version of the dataset since Whispering-GPT/lex-fridman-podcast couldn't be found on the Hugging Face Hub\n",
      "Found the latest cached dataset configuration 'default' at C:\\Users\\archa\\.cache\\huggingface\\datasets\\Whispering-GPT___lex-fridman-podcast\\default\\0.0.0\\89ae90cf6e8d21e4f81b581252f1c8f4964b2de3 (last modified on Mon Jun  2 20:34:28 2025).\n"
     ]
    },
    {
     "name": "stdout",
     "output_type": "stream",
     "text": [
      "DatasetDict({\n",
      "    train: Dataset({\n",
      "        features: ['id', 'channel', 'channel_id', 'title', 'categories', 'tags', 'description', 'text', 'segments'],\n",
      "        num_rows: 346\n",
      "    })\n",
      "})\n"
     ]
    }
   ],
   "source": [
    "# Load the Whispering-GPT Lex Fridman podcast dataset\n",
    "dataset = load_dataset(\"Whispering-GPT/lex-fridman-podcast\")\n",
    "\n",
    "# Check the number of examples and structure\n",
    "print(dataset)\n"
   ]
  },
  {
   "cell_type": "code",
   "execution_count": null,
   "id": "032e65db",
   "metadata": {},
   "outputs": [
    {
     "data": {
      "text/html": [
       "<div>\n",
       "<style scoped>\n",
       "    .dataframe tbody tr th:only-of-type {\n",
       "        vertical-align: middle;\n",
       "    }\n",
       "\n",
       "    .dataframe tbody tr th {\n",
       "        vertical-align: top;\n",
       "    }\n",
       "\n",
       "    .dataframe thead th {\n",
       "        text-align: right;\n",
       "    }\n",
       "</style>\n",
       "<table border=\"1\" class=\"dataframe\">\n",
       "  <thead>\n",
       "    <tr style=\"text-align: right;\">\n",
       "      <th></th>\n",
       "      <th>id</th>\n",
       "      <th>channel</th>\n",
       "      <th>channel_id</th>\n",
       "      <th>title</th>\n",
       "      <th>categories</th>\n",
       "      <th>tags</th>\n",
       "      <th>description</th>\n",
       "      <th>text</th>\n",
       "      <th>segments</th>\n",
       "    </tr>\n",
       "  </thead>\n",
       "  <tbody>\n",
       "    <tr>\n",
       "      <th>0</th>\n",
       "      <td>TRdL6ZzWBS0</td>\n",
       "      <td>Lex Fridman</td>\n",
       "      <td>UCSHZKyawb77ixDdsGog4iWA</td>\n",
       "      <td>Jed Buchwald: Isaac Newton and the Philosophy ...</td>\n",
       "      <td>[Science &amp; Technology]</td>\n",
       "      <td>[agi, ai, ai podcast, artificial intelligence,...</td>\n",
       "      <td>Jed Buchwald is a historian and philosopher of...</td>\n",
       "      <td>The following is a conversation with Jed Buck...</td>\n",
       "      <td>[{'start': 0.0, 'end': 7.68, 'text': ' The fol...</td>\n",
       "    </tr>\n",
       "    <tr>\n",
       "      <th>1</th>\n",
       "      <td>TPXTmVdlyoc</td>\n",
       "      <td>Lex Fridman</td>\n",
       "      <td>UCSHZKyawb77ixDdsGog4iWA</td>\n",
       "      <td>Sergey Nazarov: Chainlink, Smart Contracts, an...</td>\n",
       "      <td>[Science &amp; Technology]</td>\n",
       "      <td>[agi, ai, ai podcast, artificial intelligence,...</td>\n",
       "      <td>Sergey Nazarov is the Co-Founder of Chainlink,...</td>\n",
       "      <td>The following is a conversation with Sergey N...</td>\n",
       "      <td>[{'start': 0.0, 'end': 6.5, 'text': ' The foll...</td>\n",
       "    </tr>\n",
       "    <tr>\n",
       "      <th>2</th>\n",
       "      <td>-t1_ffaFXao</td>\n",
       "      <td>Lex Fridman</td>\n",
       "      <td>UCSHZKyawb77ixDdsGog4iWA</td>\n",
       "      <td>Stephen Wolfram: Fundamental Theory of Physics...</td>\n",
       "      <td>[Science &amp; Technology]</td>\n",
       "      <td>[stephen wolfram, artificial intelligence, agi...</td>\n",
       "      <td>Stephen Wolfram is a computer scientist, mathe...</td>\n",
       "      <td>The following is a conversation with Stephen ...</td>\n",
       "      <td>[{'start': 0.0, 'end': 4.48, 'text': ' The fol...</td>\n",
       "    </tr>\n",
       "    <tr>\n",
       "      <th>3</th>\n",
       "      <td>BCdV6BMMpOo</td>\n",
       "      <td>Lex Fridman</td>\n",
       "      <td>UCSHZKyawb77ixDdsGog4iWA</td>\n",
       "      <td>Philip Goff: Consciousness, Panpsychism, and t...</td>\n",
       "      <td>[Science &amp; Technology]</td>\n",
       "      <td>[agi, ai, ai podcast, artificial intelligence,...</td>\n",
       "      <td>Philip Goff is a philosopher of mind and consc...</td>\n",
       "      <td>I believe our official scientific worldview i...</td>\n",
       "      <td>[{'start': 0.0, 'end': 5.2, 'text': ' I believ...</td>\n",
       "    </tr>\n",
       "    <tr>\n",
       "      <th>4</th>\n",
       "      <td>Kedt2or9xlo</td>\n",
       "      <td>Lex Fridman</td>\n",
       "      <td>UCSHZKyawb77ixDdsGog4iWA</td>\n",
       "      <td>Oriol Vinyals: DeepMind AlphaStar, StarCraft, ...</td>\n",
       "      <td>[Science &amp; Technology]</td>\n",
       "      <td>[]</td>\n",
       "      <td></td>\n",
       "      <td>The following is a conversation with Ariol Vi...</td>\n",
       "      <td>[{'start': 0.0, 'end': 3.2800000000000002, 'te...</td>\n",
       "    </tr>\n",
       "  </tbody>\n",
       "</table>\n",
       "</div>"
      ],
      "text/plain": [
       "            id      channel                channel_id  \\\n",
       "0  TRdL6ZzWBS0  Lex Fridman  UCSHZKyawb77ixDdsGog4iWA   \n",
       "1  TPXTmVdlyoc  Lex Fridman  UCSHZKyawb77ixDdsGog4iWA   \n",
       "2  -t1_ffaFXao  Lex Fridman  UCSHZKyawb77ixDdsGog4iWA   \n",
       "3  BCdV6BMMpOo  Lex Fridman  UCSHZKyawb77ixDdsGog4iWA   \n",
       "4  Kedt2or9xlo  Lex Fridman  UCSHZKyawb77ixDdsGog4iWA   \n",
       "\n",
       "                                               title              categories  \\\n",
       "0  Jed Buchwald: Isaac Newton and the Philosophy ...  [Science & Technology]   \n",
       "1  Sergey Nazarov: Chainlink, Smart Contracts, an...  [Science & Technology]   \n",
       "2  Stephen Wolfram: Fundamental Theory of Physics...  [Science & Technology]   \n",
       "3  Philip Goff: Consciousness, Panpsychism, and t...  [Science & Technology]   \n",
       "4  Oriol Vinyals: DeepMind AlphaStar, StarCraft, ...  [Science & Technology]   \n",
       "\n",
       "                                                tags  \\\n",
       "0  [agi, ai, ai podcast, artificial intelligence,...   \n",
       "1  [agi, ai, ai podcast, artificial intelligence,...   \n",
       "2  [stephen wolfram, artificial intelligence, agi...   \n",
       "3  [agi, ai, ai podcast, artificial intelligence,...   \n",
       "4                                                 []   \n",
       "\n",
       "                                         description  \\\n",
       "0  Jed Buchwald is a historian and philosopher of...   \n",
       "1  Sergey Nazarov is the Co-Founder of Chainlink,...   \n",
       "2  Stephen Wolfram is a computer scientist, mathe...   \n",
       "3  Philip Goff is a philosopher of mind and consc...   \n",
       "4                                                      \n",
       "\n",
       "                                                text  \\\n",
       "0   The following is a conversation with Jed Buck...   \n",
       "1   The following is a conversation with Sergey N...   \n",
       "2   The following is a conversation with Stephen ...   \n",
       "3   I believe our official scientific worldview i...   \n",
       "4   The following is a conversation with Ariol Vi...   \n",
       "\n",
       "                                            segments  \n",
       "0  [{'start': 0.0, 'end': 7.68, 'text': ' The fol...  \n",
       "1  [{'start': 0.0, 'end': 6.5, 'text': ' The foll...  \n",
       "2  [{'start': 0.0, 'end': 4.48, 'text': ' The fol...  \n",
       "3  [{'start': 0.0, 'end': 5.2, 'text': ' I believ...  \n",
       "4  [{'start': 0.0, 'end': 3.2800000000000002, 'te...  "
      ]
     },
     "execution_count": 2,
     "metadata": {},
     "output_type": "execute_result"
    }
   ],
   "source": [
    "# Convert to DataFrame\n",
    "df = pd.DataFrame(dataset['train'])\n",
    "\n",
    "# Preview the first few rows\n",
    "df.head()\n"
   ]
  },
  {
   "cell_type": "code",
   "execution_count": null,
   "id": "0e04c046",
   "metadata": {},
   "outputs": [
    {
     "name": "stdout",
     "output_type": "stream",
     "text": [
      "✅ Saved to data/raw/lex_fridman_podcast.csv\n"
     ]
    }
   ],
   "source": [
    "# Ensure the directory exists\n",
    "os.makedirs(\"data/raw\", exist_ok=True)\n",
    "\n",
    "# Now save\n",
    "df.to_csv(\"data/raw/lex_fridman_podcast.csv\", index=False)\n",
    "print(\"✅ Saved to data/raw/lex_fridman_podcast.csv\")\n"
   ]
  }
 ],
 "metadata": {
  "kernelspec": {
   "display_name": "podcast_env",
   "language": "python",
   "name": "python3"
  },
  "language_info": {
   "codemirror_mode": {
    "name": "ipython",
    "version": 3
   },
   "file_extension": ".py",
   "mimetype": "text/x-python",
   "name": "python",
   "nbconvert_exporter": "python",
   "pygments_lexer": "ipython3",
   "version": "3.11.5"
  }
 },
 "nbformat": 4,
 "nbformat_minor": 5
}
